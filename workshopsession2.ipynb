{
  "nbformat": 4,
  "nbformat_minor": 0,
  "metadata": {
    "colab": {
      "provenance": [],
      "authorship_tag": "ABX9TyOxlDkkFR59kOiMVxELYZRk",
      "include_colab_link": true
    },
    "kernelspec": {
      "name": "python3",
      "display_name": "Python 3"
    },
    "language_info": {
      "name": "python"
    }
  },
  "cells": [
    {
      "cell_type": "markdown",
      "metadata": {
        "id": "view-in-github",
        "colab_type": "text"
      },
      "source": [
        "<a href=\"https://colab.research.google.com/github/meghana1209/genai_ml_workshop/blob/main/workshopsession2.ipynb\" target=\"_parent\"><img src=\"https://colab.research.google.com/assets/colab-badge.svg\" alt=\"Open In Colab\"/></a>"
      ]
    },
    {
      "cell_type": "markdown",
      "source": [
        "#nlp model\n",
        "# tokenization\n"
      ],
      "metadata": {
        "id": "VL2vvvbMTHql"
      }
    },
    {
      "cell_type": "code",
      "source": [
        "pip install scapy"
      ],
      "metadata": {
        "colab": {
          "base_uri": "https://localhost:8080/"
        },
        "id": "DzZa2GGvT7kT",
        "outputId": "a6e6c670-7b4b-4841-9b90-d241d50829bc"
      },
      "execution_count": 19,
      "outputs": [
        {
          "output_type": "stream",
          "name": "stdout",
          "text": [
            "Requirement already satisfied: scapy in /usr/local/lib/python3.11/dist-packages (2.6.1)\n"
          ]
        }
      ]
    },
    {
      "cell_type": "code",
      "source": [
        "### Install the libraries\n",
        "!pip install nltk"
      ],
      "metadata": {
        "colab": {
          "base_uri": "https://localhost:8080/"
        },
        "id": "Zlmi1ZM1U6Gu",
        "outputId": "6d0576ca-1a00-429e-90b0-2dce02f9c340"
      },
      "execution_count": 20,
      "outputs": [
        {
          "output_type": "stream",
          "name": "stdout",
          "text": [
            "Requirement already satisfied: nltk in /usr/local/lib/python3.11/dist-packages (3.9.1)\n",
            "Requirement already satisfied: click in /usr/local/lib/python3.11/dist-packages (from nltk) (8.1.8)\n",
            "Requirement already satisfied: joblib in /usr/local/lib/python3.11/dist-packages (from nltk) (1.4.2)\n",
            "Requirement already satisfied: regex>=2021.8.3 in /usr/local/lib/python3.11/dist-packages (from nltk) (2024.11.6)\n",
            "Requirement already satisfied: tqdm in /usr/local/lib/python3.11/dist-packages (from nltk) (4.67.1)\n"
          ]
        }
      ]
    },
    {
      "cell_type": "code",
      "source": [
        "import nltk\n",
        "from nltk.tokenize import word_tokenize\n",
        "from nltk.corpus import stopwords\n",
        "from nltk.stem import WordNetLemmatizer\n",
        "\n",
        "\n",
        "# Download necessary NLTK data files (only need to run once)\n",
        "nltk.download('punkt')\n",
        "nltk.download('stopwords')\n",
        "nltk.download('wordnet')\n",
        "nltk.download('punkt_tab')"
      ],
      "metadata": {
        "colab": {
          "base_uri": "https://localhost:8080/"
        },
        "id": "lGL1kU7dVGzu",
        "outputId": "d99069cc-5426-4bef-8370-162f1ed1acbd"
      },
      "execution_count": 21,
      "outputs": [
        {
          "output_type": "stream",
          "name": "stderr",
          "text": [
            "[nltk_data] Downloading package punkt to /root/nltk_data...\n",
            "[nltk_data]   Package punkt is already up-to-date!\n",
            "[nltk_data] Downloading package stopwords to /root/nltk_data...\n",
            "[nltk_data]   Package stopwords is already up-to-date!\n",
            "[nltk_data] Downloading package wordnet to /root/nltk_data...\n",
            "[nltk_data] Downloading package punkt_tab to /root/nltk_data...\n",
            "[nltk_data]   Unzipping tokenizers/punkt_tab.zip.\n"
          ]
        },
        {
          "output_type": "execute_result",
          "data": {
            "text/plain": [
              "True"
            ]
          },
          "metadata": {},
          "execution_count": 21
        }
      ]
    },
    {
      "cell_type": "code",
      "source": [
        "text =\" Natural language Processing (NLP) is a fascinating feild of artificial intelligence\""
      ],
      "metadata": {
        "id": "oW_ggSQ-VhjH"
      },
      "execution_count": 22,
      "outputs": []
    },
    {
      "cell_type": "code",
      "source": [
        "#tokenes\n",
        "tokens = word_tokenize(text)\n",
        "print(\"Tokens:\",tokens)"
      ],
      "metadata": {
        "colab": {
          "base_uri": "https://localhost:8080/"
        },
        "id": "yyPv-G4QeAEI",
        "outputId": "f517f4bb-068a-43d7-b6e2-773bc73f1d1b"
      },
      "execution_count": 23,
      "outputs": [
        {
          "output_type": "stream",
          "name": "stdout",
          "text": [
            "Tokens: ['Natural', 'language', 'Processing', '(', 'NLP', ')', 'is', 'a', 'fascinating', 'feild', 'of', 'artificial', 'intelligence']\n"
          ]
        }
      ]
    },
    {
      "cell_type": "code",
      "source": [
        "#stop words\n",
        "stop_words=set(stopwords.words('english'))\n",
        "stop_words\n"
      ],
      "metadata": {
        "colab": {
          "base_uri": "https://localhost:8080/"
        },
        "id": "mtDJOrgpVhlT",
        "outputId": "d6bc3aa9-9dd7-4b45-de67-3f17bd751684"
      },
      "execution_count": 24,
      "outputs": [
        {
          "output_type": "execute_result",
          "data": {
            "text/plain": [
              "{'a',\n",
              " 'about',\n",
              " 'above',\n",
              " 'after',\n",
              " 'again',\n",
              " 'against',\n",
              " 'ain',\n",
              " 'all',\n",
              " 'am',\n",
              " 'an',\n",
              " 'and',\n",
              " 'any',\n",
              " 'are',\n",
              " 'aren',\n",
              " \"aren't\",\n",
              " 'as',\n",
              " 'at',\n",
              " 'be',\n",
              " 'because',\n",
              " 'been',\n",
              " 'before',\n",
              " 'being',\n",
              " 'below',\n",
              " 'between',\n",
              " 'both',\n",
              " 'but',\n",
              " 'by',\n",
              " 'can',\n",
              " 'couldn',\n",
              " \"couldn't\",\n",
              " 'd',\n",
              " 'did',\n",
              " 'didn',\n",
              " \"didn't\",\n",
              " 'do',\n",
              " 'does',\n",
              " 'doesn',\n",
              " \"doesn't\",\n",
              " 'doing',\n",
              " 'don',\n",
              " \"don't\",\n",
              " 'down',\n",
              " 'during',\n",
              " 'each',\n",
              " 'few',\n",
              " 'for',\n",
              " 'from',\n",
              " 'further',\n",
              " 'had',\n",
              " 'hadn',\n",
              " \"hadn't\",\n",
              " 'has',\n",
              " 'hasn',\n",
              " \"hasn't\",\n",
              " 'have',\n",
              " 'haven',\n",
              " \"haven't\",\n",
              " 'having',\n",
              " 'he',\n",
              " 'her',\n",
              " 'here',\n",
              " 'hers',\n",
              " 'herself',\n",
              " 'him',\n",
              " 'himself',\n",
              " 'his',\n",
              " 'how',\n",
              " 'i',\n",
              " 'if',\n",
              " 'in',\n",
              " 'into',\n",
              " 'is',\n",
              " 'isn',\n",
              " \"isn't\",\n",
              " 'it',\n",
              " \"it's\",\n",
              " 'its',\n",
              " 'itself',\n",
              " 'just',\n",
              " 'll',\n",
              " 'm',\n",
              " 'ma',\n",
              " 'me',\n",
              " 'mightn',\n",
              " \"mightn't\",\n",
              " 'more',\n",
              " 'most',\n",
              " 'mustn',\n",
              " \"mustn't\",\n",
              " 'my',\n",
              " 'myself',\n",
              " 'needn',\n",
              " \"needn't\",\n",
              " 'no',\n",
              " 'nor',\n",
              " 'not',\n",
              " 'now',\n",
              " 'o',\n",
              " 'of',\n",
              " 'off',\n",
              " 'on',\n",
              " 'once',\n",
              " 'only',\n",
              " 'or',\n",
              " 'other',\n",
              " 'our',\n",
              " 'ours',\n",
              " 'ourselves',\n",
              " 'out',\n",
              " 'over',\n",
              " 'own',\n",
              " 're',\n",
              " 's',\n",
              " 'same',\n",
              " 'shan',\n",
              " \"shan't\",\n",
              " 'she',\n",
              " \"she's\",\n",
              " 'should',\n",
              " \"should've\",\n",
              " 'shouldn',\n",
              " \"shouldn't\",\n",
              " 'so',\n",
              " 'some',\n",
              " 'such',\n",
              " 't',\n",
              " 'than',\n",
              " 'that',\n",
              " \"that'll\",\n",
              " 'the',\n",
              " 'their',\n",
              " 'theirs',\n",
              " 'them',\n",
              " 'themselves',\n",
              " 'then',\n",
              " 'there',\n",
              " 'these',\n",
              " 'they',\n",
              " 'this',\n",
              " 'those',\n",
              " 'through',\n",
              " 'to',\n",
              " 'too',\n",
              " 'under',\n",
              " 'until',\n",
              " 'up',\n",
              " 've',\n",
              " 'very',\n",
              " 'was',\n",
              " 'wasn',\n",
              " \"wasn't\",\n",
              " 'we',\n",
              " 'were',\n",
              " 'weren',\n",
              " \"weren't\",\n",
              " 'what',\n",
              " 'when',\n",
              " 'where',\n",
              " 'which',\n",
              " 'while',\n",
              " 'who',\n",
              " 'whom',\n",
              " 'why',\n",
              " 'will',\n",
              " 'with',\n",
              " 'won',\n",
              " \"won't\",\n",
              " 'wouldn',\n",
              " \"wouldn't\",\n",
              " 'y',\n",
              " 'you',\n",
              " \"you'd\",\n",
              " \"you'll\",\n",
              " \"you're\",\n",
              " \"you've\",\n",
              " 'your',\n",
              " 'yours',\n",
              " 'yourself',\n",
              " 'yourselves'}"
            ]
          },
          "metadata": {},
          "execution_count": 24
        }
      ]
    },
    {
      "cell_type": "code",
      "source": [
        "filter_tokens=[word for word in tokens if word.lower() not in stop_words]\n",
        "print(\"Filter tokens:\",filter_tokens)"
      ],
      "metadata": {
        "colab": {
          "base_uri": "https://localhost:8080/"
        },
        "id": "74Jc8vY3VhoF",
        "outputId": "340ba254-a3a9-4ff7-f007-ee58a7f6511c"
      },
      "execution_count": 25,
      "outputs": [
        {
          "output_type": "stream",
          "name": "stdout",
          "text": [
            "Filter tokens: ['Natural', 'language', 'Processing', '(', 'NLP', ')', 'fascinating', 'feild', 'artificial', 'intelligence']\n"
          ]
        }
      ]
    },
    {
      "cell_type": "code",
      "source": [
        "lemmatizer = WordNetLemmatizer()\n",
        "lemmatized_tokens=[lemmatizer.lemmatize(token) for token in filter_tokens]\n",
        "print(\"Lemmatizer token:\",lemmatized_tokens)"
      ],
      "metadata": {
        "colab": {
          "base_uri": "https://localhost:8080/"
        },
        "id": "XCF2z2nMVhqR",
        "outputId": "1affb1b1-35e2-4dc0-f9a1-94c97e5da8b8"
      },
      "execution_count": 26,
      "outputs": [
        {
          "output_type": "stream",
          "name": "stdout",
          "text": [
            "Lemmatizer token: ['Natural', 'language', 'Processing', '(', 'NLP', ')', 'fascinating', 'feild', 'artificial', 'intelligence']\n"
          ]
        }
      ]
    },
    {
      "cell_type": "code",
      "source": [
        "lemmatized_tokens=[]\n",
        "for token in filter_tokens:\n",
        "  i=lemmatizer.lemmatize(token)\n",
        "  lemmatized_tokens.append(i)\n",
        "lemmatized_tokens\n",
        "\n"
      ],
      "metadata": {
        "colab": {
          "base_uri": "https://localhost:8080/"
        },
        "id": "hd3eUk_FVhs_",
        "outputId": "d2f8848c-2cd2-44ac-cf88-a0a1e9d04adf"
      },
      "execution_count": 27,
      "outputs": [
        {
          "output_type": "execute_result",
          "data": {
            "text/plain": [
              "['Natural',\n",
              " 'language',\n",
              " 'Processing',\n",
              " '(',\n",
              " 'NLP',\n",
              " ')',\n",
              " 'fascinating',\n",
              " 'feild',\n",
              " 'artificial',\n",
              " 'intelligence']"
            ]
          },
          "metadata": {},
          "execution_count": 27
        }
      ]
    },
    {
      "cell_type": "code",
      "source": [
        "#function for the pre\n",
        "def preprocess_text(text):\n",
        "  tokens=word_tokenize(text)\n",
        "  filter_tokens=[word for word in tokens if word.lower() not in stop_words]\n",
        "  lemmatized_tokens=[lemmatizer.lemmatize(token) for token in filter_tokens]\n",
        "  return lemmatized_tokens"
      ],
      "metadata": {
        "id": "Tru0-taUVhv8"
      },
      "execution_count": 28,
      "outputs": []
    },
    {
      "cell_type": "code",
      "source": [
        "text=\" we have workshop at college\"\n"
      ],
      "metadata": {
        "id": "XFlbQrhqVhx9"
      },
      "execution_count": 29,
      "outputs": []
    },
    {
      "cell_type": "code",
      "source": [
        "preprocess_text(text)"
      ],
      "metadata": {
        "colab": {
          "base_uri": "https://localhost:8080/"
        },
        "id": "5VgdimHMVh0h",
        "outputId": "352a8aa1-641d-41ca-d370-6840e87766ad"
      },
      "execution_count": 30,
      "outputs": [
        {
          "output_type": "execute_result",
          "data": {
            "text/plain": [
              "['workshop', 'college']"
            ]
          },
          "metadata": {},
          "execution_count": 30
        }
      ]
    },
    {
      "cell_type": "code",
      "source": [
        "!pip install nltk vaderSentiment"
      ],
      "metadata": {
        "colab": {
          "base_uri": "https://localhost:8080/"
        },
        "id": "RyT78LONVh3P",
        "outputId": "49ad6f37-771f-4960-84e3-876dcfd30fb8"
      },
      "execution_count": 31,
      "outputs": [
        {
          "output_type": "stream",
          "name": "stdout",
          "text": [
            "Requirement already satisfied: nltk in /usr/local/lib/python3.11/dist-packages (3.9.1)\n",
            "Requirement already satisfied: vaderSentiment in /usr/local/lib/python3.11/dist-packages (3.3.2)\n",
            "Requirement already satisfied: click in /usr/local/lib/python3.11/dist-packages (from nltk) (8.1.8)\n",
            "Requirement already satisfied: joblib in /usr/local/lib/python3.11/dist-packages (from nltk) (1.4.2)\n",
            "Requirement already satisfied: regex>=2021.8.3 in /usr/local/lib/python3.11/dist-packages (from nltk) (2024.11.6)\n",
            "Requirement already satisfied: tqdm in /usr/local/lib/python3.11/dist-packages (from nltk) (4.67.1)\n",
            "Requirement already satisfied: requests in /usr/local/lib/python3.11/dist-packages (from vaderSentiment) (2.32.3)\n",
            "Requirement already satisfied: charset-normalizer<4,>=2 in /usr/local/lib/python3.11/dist-packages (from requests->vaderSentiment) (3.4.1)\n",
            "Requirement already satisfied: idna<4,>=2.5 in /usr/local/lib/python3.11/dist-packages (from requests->vaderSentiment) (3.10)\n",
            "Requirement already satisfied: urllib3<3,>=1.21.1 in /usr/local/lib/python3.11/dist-packages (from requests->vaderSentiment) (2.3.0)\n",
            "Requirement already satisfied: certifi>=2017.4.17 in /usr/local/lib/python3.11/dist-packages (from requests->vaderSentiment) (2025.1.31)\n"
          ]
        }
      ]
    },
    {
      "cell_type": "code",
      "source": [
        "from vaderSentiment.vaderSentiment import SentimentIntensityAnalyzer"
      ],
      "metadata": {
        "id": "7Gm39EGpnjTH"
      },
      "execution_count": 32,
      "outputs": []
    },
    {
      "cell_type": "code",
      "source": [
        "def analyze_sentiment(text):\n",
        "  analyzer=SentimentIntensityAnalyzer()\n",
        "  sentiment=analyzer.polarity_scores(text)\n",
        "  return sentiment"
      ],
      "metadata": {
        "id": "7dIbUSkpVh6u"
      },
      "execution_count": 33,
      "outputs": []
    },
    {
      "cell_type": "code",
      "source": [
        "def sentiment_analysis_application(text):\n",
        "    # Preprocess the text\n",
        "    preprocessed_text = preprocess_text(text)\n",
        "    preprocessed_text_str = ' '.join(preprocessed_text)  # Convert list of tokens back to a single string\n",
        "\n",
        "    # Analyze the sentiment of the preprocessed text\n",
        "    sentiment = analyze_sentiment(preprocessed_text_str)\n",
        "\n",
        "    # Print the results\n",
        "    print(f\"Original Text: {text}\")\n",
        "    print(f\"Preprocessed Text: {preprocessed_text_str}\")\n",
        "    print(f\"Sentiment: {sentiment}\")\n",
        "\n",
        "# Sample text\n",
        "\n",
        "\n",
        "# Run the application\n"
      ],
      "metadata": {
        "id": "LrQ3jAz3mta6"
      },
      "execution_count": 34,
      "outputs": []
    },
    {
      "cell_type": "code",
      "source": [
        "text = \"Natural Language Processing (NLP) is a fascinating field of artificial intelligence.\""
      ],
      "metadata": {
        "id": "FLyzEIK3mtee"
      },
      "execution_count": 35,
      "outputs": []
    },
    {
      "cell_type": "code",
      "source": [
        "sentiment_analysis_application(text)"
      ],
      "metadata": {
        "colab": {
          "base_uri": "https://localhost:8080/"
        },
        "id": "Ezyudc5TnJuM",
        "outputId": "fcdebd34-8841-4027-e48e-f2e36f6e65c0"
      },
      "execution_count": 36,
      "outputs": [
        {
          "output_type": "stream",
          "name": "stdout",
          "text": [
            "Original Text: Natural Language Processing (NLP) is a fascinating field of artificial intelligence.\n",
            "Preprocessed Text: Natural Language Processing ( NLP ) fascinating field artificial intelligence .\n",
            "Sentiment: {'neg': 0.0, 'neu': 0.468, 'pos': 0.532, 'compound': 0.8442}\n"
          ]
        }
      ]
    },
    {
      "cell_type": "code",
      "source": [
        "texts = [\n",
        "    \"I love this product! It's absolutely amazing.\",\n",
        "    \"This is the worst experience I've ever had.\",\n",
        "    \"It's okay, not great but not terrible either.\",\n",
        "    \"I'm really happy with the service.\",\n",
        "    \"I am very disappointed with the quality.\"\n",
        "]"
      ],
      "metadata": {
        "id": "l78quUFnptDc"
      },
      "execution_count": 37,
      "outputs": []
    },
    {
      "cell_type": "code",
      "source": [
        "nltk.download('vader_lexicon')"
      ],
      "metadata": {
        "colab": {
          "base_uri": "https://localhost:8080/"
        },
        "id": "WdrLmd7_pymG",
        "outputId": "9aa429d9-0420-4e91-d768-592ebd6dd2cd"
      },
      "execution_count": 38,
      "outputs": [
        {
          "output_type": "stream",
          "name": "stderr",
          "text": [
            "[nltk_data] Downloading package vader_lexicon to /root/nltk_data...\n",
            "[nltk_data]   Package vader_lexicon is already up-to-date!\n"
          ]
        },
        {
          "output_type": "execute_result",
          "data": {
            "text/plain": [
              "True"
            ]
          },
          "metadata": {},
          "execution_count": 38
        }
      ]
    },
    {
      "cell_type": "code",
      "source": [
        "import nltk\n",
        "import string\n",
        "from nltk.corpus import stopwords\n",
        "from nltk.tokenize import word_tokenize\n",
        "from vaderSentiment.vaderSentiment import SentimentIntensityAnalyzer\n",
        "\n",
        "# Download NLTK data (if you haven't already) - Run these ONCE\n",
        "try:\n",
        "    stopwords.words('english')\n",
        "except LookupError:\n",
        "    nltk.download('stopwords')\n",
        "try:\n",
        "    nltk.word_tokenize(\"test\") # Try tokenizing once to trigger download if needed\n",
        "except LookupError:\n",
        "    nltk.download('punkt')\n",
        "\n",
        "def preprocess_text(text):\n",
        "    \"\"\"\n",
        "    Preprocesses the input text.\n",
        "    \"\"\"\n",
        "    text = text.lower()\n",
        "    text = text.translate(str.maketrans('', '', string.punctuation))\n",
        "    tokens = word_tokenize(text)\n",
        "    stop_words = set(stopwords.words('english'))\n",
        "    filtered_tokens = [w for w in tokens if not w in stop_words]\n",
        "    return filtered_tokens\n",
        "\n",
        "def classify_sentiment(sentiment):\n",
        "    \"\"\"\n",
        "    Classifies sentiment based on compound score.\n",
        "    \"\"\"\n",
        "    compound_score = sentiment.get(\"compound\", 0)\n",
        "    if compound_score >= 0.05:\n",
        "        return \"Positive\"\n",
        "    elif compound_score <= -0.05:\n",
        "        return \"Negative\"\n",
        "    else:\n",
        "        return \"Neutral\"\n",
        "\n",
        "def sentiment_analysis_application(text):\n",
        "    \"\"\"\n",
        "    Performs sentiment analysis on the given text.\n",
        "    \"\"\"\n",
        "    preprocessed_text = preprocess_text(text)\n",
        "    preprocessed_text_str = ' '.join(preprocessed_text)  # Join tokens back into a string for VADER\n",
        "\n",
        "    analyzer = SentimentIntensityAnalyzer()\n",
        "    sentiment = analyzer.polarity_scores(preprocessed_text_str) # Analyze the preprocessed string\n",
        "\n",
        "    sentiment_type = classify_sentiment(sentiment)\n",
        "    return sentiment_type, sentiment['compound'] # Return both the type and compound score\n",
        "\n",
        "\n",
        "# Example Usage:\n",
        "texts = [\n",
        "    \"This is a great movie!\",\n",
        "    \"I did not like the food.\",\n",
        "    \"The weather is nice today.\",\n",
        "    \"This is terrible!\"\n",
        "]\n",
        "\n",
        "for text in texts:\n",
        "    sentiment_type, compound_score = sentiment_analysis_application(text)\n",
        "    print(f\"Text: {text}\")\n",
        "    print(f\"Sentiment: {sentiment_type} (Compound Score: {compound_score:.2f})\")\n",
        "    print()\n",
        "\n",
        "\n",
        "# Another example usage (single text):\n",
        "text_to_analyze = \"This is an amazing product, I love it!\"\n",
        "sentiment_type, compound_score = sentiment_analysis_application(text_to_analyze)\n",
        "print(f\"Text: {text_to_analyze}\")\n",
        "print(f\"Sentiment: {sentiment_type} (Compound Score: {compound_score:.2f})\")"
      ],
      "metadata": {
        "colab": {
          "base_uri": "https://localhost:8080/"
        },
        "id": "AC2sBvW4qEs8",
        "outputId": "a9de29de-d43b-485e-ca25-c99cd1992207"
      },
      "execution_count": 42,
      "outputs": [
        {
          "output_type": "stream",
          "name": "stdout",
          "text": [
            "Text: This is a great movie!\n",
            "Sentiment: Positive (Compound Score: 0.62)\n",
            "\n",
            "Text: I did not like the food.\n",
            "Sentiment: Positive (Compound Score: 0.36)\n",
            "\n",
            "Text: The weather is nice today.\n",
            "Sentiment: Positive (Compound Score: 0.42)\n",
            "\n",
            "Text: This is terrible!\n",
            "Sentiment: Negative (Compound Score: -0.48)\n",
            "\n",
            "Text: This is an amazing product, I love it!\n",
            "Sentiment: Positive (Compound Score: 0.84)\n"
          ]
        }
      ]
    }
  ]
}